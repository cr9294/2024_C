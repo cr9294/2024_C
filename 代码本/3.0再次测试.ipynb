{
 "cells": [
  {
   "cell_type": "code",
   "id": "initial_id",
   "metadata": {
    "collapsed": true,
    "ExecuteTime": {
     "end_time": "2024-09-07T00:06:05.937768Z",
     "start_time": "2024-09-07T00:06:05.927768Z"
    }
   },
   "source": [
    ""
   ],
   "outputs": [],
   "execution_count": 1
  },
  {
   "metadata": {},
   "cell_type": "markdown",
   "source": [
    "(1) 对零配件是否进行检测，如果对某种零配件不检测，这种零配件将直接进入到装配环节；否则将检测出的不合格零配件丢弃；\n",
    "(2) 对装配好的每一件半成品是否进行检测，如果不检测，装配后的半成品直接进入到成品装配环节；否则将检测出的不合格零配件直接丢弃。\n",
    "(3) 对检测出的不合格半成品是否进行拆解，如果不拆解，直接将不合格成品丢弃；否则对拆解后的零配件，重复步骤(1)和步骤(2)；\n",
    "(4) 对装配好的每一件成品是否进行检测，如果不检测，装配后的成品直接进入到市场；否则只有检测合格的成品进入到市场；\n",
    "(5) 对检测出的不合格成品是否进行拆解，如果不拆解，直接将不合格成品丢弃；否则对拆解后的零配件，重复步骤(2)和步骤(3)；\n",
    "(6) 对用户购买的不合格品，企业将无条件予以调换，并产生一定的调换损失（如物流成本、企业信誉等）。对退回的不合格品，重复步骤(4)和步骤(5)。\n"
   ],
   "id": "532c7aa2032ee94d"
  },
  {
   "metadata": {},
   "cell_type": "markdown",
   "source": "",
   "id": "68f72948b977fe7f"
  }
 ],
 "metadata": {
  "kernelspec": {
   "display_name": "Python 3",
   "language": "python",
   "name": "python3"
  },
  "language_info": {
   "codemirror_mode": {
    "name": "ipython",
    "version": 2
   },
   "file_extension": ".py",
   "mimetype": "text/x-python",
   "name": "python",
   "nbconvert_exporter": "python",
   "pygments_lexer": "ipython2",
   "version": "2.7.6"
  }
 },
 "nbformat": 4,
 "nbformat_minor": 5
}
