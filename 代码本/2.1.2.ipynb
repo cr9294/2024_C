{
 "cells": [
  {
   "cell_type": "code",
   "id": "initial_id",
   "metadata": {
    "collapsed": true,
    "ExecuteTime": {
     "end_time": "2024-09-06T06:34:54.669877Z",
     "start_time": "2024-09-06T06:34:54.619885Z"
    }
   },
   "source": [
    "import numpy as np\n",
    "\n",
    "# 定义模拟参数\n",
    "num_simulations = 10000  # 蒙特卡洛模拟次数\n",
    "\n",
    "# 各种配件的次品率(转换为不合格品率)\n",
    "defective_rate_part1 = 0.20\n",
    "defective_rate_part2 = 0.20\n",
    "defective_rate_final_product = 0.20\n",
    "\n",
    "# 成本参数 (单位: 元)\n",
    "cost_part1_purchase = 4\n",
    "cost_part1_inspection = 2\n",
    "cost_part2_purchase = 18\n",
    "cost_part2_inspection = 3\n",
    "cost_assembly = 6\n",
    "cost_final_inspection = 3\n",
    "final_product_price = 56\n",
    "\n",
    "# 不合格品处理成本\n",
    "replacement_loss = 6  # 调换损失\n",
    "disassembly_cost = 5   # 拆解费用\n",
    "\n",
    "# 模拟过程\n",
    "def simulate_production():\n",
    "    # 随机确定零配件1是否不合格\n",
    "    part1_defective = np.random.rand() < defective_rate_part1\n",
    "    part2_defective = np.random.rand() < defective_rate_part2\n",
    "\n",
    "    # 如果零配件1或零配件2不合格，直接废弃，并产生购买及检测成本\n",
    "    if part1_defective:\n",
    "        total_cost = cost_part1_purchase + cost_part1_inspection\n",
    "        return total_cost, 0\n",
    "    if part2_defective:\n",
    "        total_cost = cost_part2_purchase + cost_part2_inspection\n",
    "        return total_cost, 0\n",
    "\n",
    "    # 如果零配件合格，继续装配，产生装配和成品检测成本\n",
    "    total_cost = (cost_part1_purchase + cost_part1_inspection + \n",
    "                  cost_part2_purchase + cost_part2_inspection + \n",
    "                  cost_assembly + cost_final_inspection)\n",
    "\n",
    "    # 随机确定成品是否不合格\n",
    "    final_product_defective = np.random.rand() < defective_rate_final_product\n",
    "\n",
    "    if final_product_defective:\n",
    "        # 如果成品不合格，产生调换损失\n",
    "        total_cost += replacement_loss + disassembly_cost\n",
    "        return total_cost, 0\n",
    "    else:\n",
    "        # 如果成品合格，进入市场，产生收益\n",
    "        return total_cost, final_product_price\n",
    "\n",
    "# 蒙特卡洛模拟\n",
    "total_costs = []\n",
    "total_revenues = []\n",
    "\n",
    "for _ in range(num_simulations):\n",
    "    cost, revenue = simulate_production()\n",
    "    total_costs.append(cost)\n",
    "    total_revenues.append(revenue)\n",
    "\n",
    "# 计算平均成本和收益\n",
    "avg_cost = np.mean(total_costs)\n",
    "avg_revenue = np.mean(total_revenues)\n",
    "net_profit = avg_revenue - avg_cost\n",
    "\n",
    "print(f\"平均成本: {avg_cost}, 平均收益: {avg_revenue}, 平均利润: {net_profit}\")\n"
   ],
   "outputs": [
    {
     "name": "stdout",
     "output_type": "stream",
     "text": [
      "平均成本: 28.9227, 平均收益: 28.616, 平均利润: -0.3066999999999993\n"
     ]
    }
   ],
   "execution_count": 2
  }
 ],
 "metadata": {
  "kernelspec": {
   "display_name": "Python 3",
   "language": "python",
   "name": "python3"
  },
  "language_info": {
   "codemirror_mode": {
    "name": "ipython",
    "version": 2
   },
   "file_extension": ".py",
   "mimetype": "text/x-python",
   "name": "python",
   "nbconvert_exporter": "python",
   "pygments_lexer": "ipython2",
   "version": "2.7.6"
  }
 },
 "nbformat": 4,
 "nbformat_minor": 5
}
