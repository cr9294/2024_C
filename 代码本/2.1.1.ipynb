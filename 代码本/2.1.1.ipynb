{
 "cells": [
  {
   "metadata": {
    "ExecuteTime": {
     "end_time": "2024-09-07T10:11:23.915566Z",
     "start_time": "2024-09-07T10:11:23.817820Z"
    }
   },
   "cell_type": "code",
   "source": [
    "import numpy as np\n",
    "\n",
    "# 定义模拟参数\n",
    "num_simulations = 10000  # 蒙特卡洛模拟次数\n",
    "\n",
    "# 各种配件的次品率(转换为不合格品率)\n",
    "defective_rate_part1 = 0.10\n",
    "defective_rate_part2 = 0.10\n",
    "defective_rate_final_product = 0.10\n",
    "\n",
    "# 成本参数 (单位: 元)\n",
    "cost_part1_purchase = 4\n",
    "cost_part1_inspection = 2\n",
    "cost_part2_purchase = 18\n",
    "cost_part2_inspection = 3\n",
    "cost_assembly = 6\n",
    "cost_final_inspection = 3\n",
    "final_product_price = 56\n",
    "\n",
    "# 不合格品处理成本\n",
    "replacement_loss = 6  # 调换损失\n",
    "disassembly_cost = 5   # 拆解费用"
   ],
   "id": "e707149dd55fb7f0",
   "outputs": [],
   "execution_count": 1
  },
  {
   "metadata": {
    "ExecuteTime": {
     "end_time": "2024-09-07T10:11:24.054949Z",
     "start_time": "2024-09-07T10:11:23.917613Z"
    }
   },
   "cell_type": "code",
   "source": [
    "# 模拟过程\n",
    "def simulate_production(inspect_part1, inspect_part2, inspect_final, disassemble):\n",
    "    # 确定零配件1是否不合格（使用固定的10%概率）\n",
    "    part1_defective = 0.1 < defective_rate_part1\n",
    "    part2_defective = 0.1 < defective_rate_part2\n",
    "\n",
    "    total_cost = cost_part1_purchase + cost_part2_purchase  # 初始采购成本\n",
    "\n",
    "    if inspect_part1:\n",
    "        total_cost += cost_part1_inspection\n",
    "        if part1_defective:\n",
    "            return total_cost, 0\n",
    "\n",
    "    if inspect_part2:\n",
    "        total_cost += cost_part2_inspection\n",
    "        if part2_defective:\n",
    "            return total_cost, 0\n",
    "\n",
    "    # 装配和成品检测成本\n",
    "    total_cost += cost_assembly\n",
    "    if inspect_final:\n",
    "        total_cost += cost_final_inspection\n",
    "\n",
    "    # 成品是否不合格（次品率受零配件是否合格影响）\n",
    "    if part1_defective or part2_defective:\n",
    "        final_product_defective = True\n",
    "    else:\n",
    "        final_product_defective = 0.1 < defective_rate_final_product\n",
    "\n",
    "    if final_product_defective:\n",
    "        if disassemble:\n",
    "            # 如果选择拆解，计算拆解后的成本和收益\n",
    "            disassembly_costs, disassembly_revenue = simulate_production(inspect_part1, inspect_part2, inspect_final, False)\n",
    "            total_cost += replacement_loss + disassembly_cost + disassembly_costs\n",
    "            return total_cost, disassembly_revenue\n",
    "        else:\n",
    "            # 如果不拆解，直接丢弃\n",
    "            total_cost += replacement_loss\n",
    "            return total_cost, 0\n",
    "    else:\n",
    "        return total_cost, final_product_price\n",
    "\n",
    "# 遍历所有策略组合\n",
    "strategies = [(inspect_part1, inspect_part2, inspect_final, disassemble) \n",
    "              for inspect_part1 in [True, False]\n",
    "              for inspect_part2 in [True, False]\n",
    "              for inspect_final in [True, False]\n",
    "              for disassemble in [True, False]]\n",
    "\n",
    "# 计算每种策略组合的平均成本和收益\n",
    "for strategy in strategies:\n",
    "    inspect_part1, inspect_part2, inspect_final, disassemble = strategy\n",
    "    total_costs = []\n",
    "    total_revenues = []\n",
    "\n",
    "    for _ in range(num_simulations):\n",
    "        cost, revenue = simulate_production(inspect_part1, inspect_part2, inspect_final, disassemble)\n",
    "        total_costs.append(cost)\n",
    "        total_revenues.append(revenue)\n",
    "\n",
    "    avg_cost = np.mean(total_costs)\n",
    "    avg_revenue = np.mean(total_revenues)\n",
    "    net_profit = avg_revenue - avg_cost\n",
    "\n",
    "    print(f\"策略组合: 检测零配件1={inspect_part1}, 检测零配件2={inspect_part2}, \"\n",
    "          f\"检测成品={inspect_final}, 拆解={disassemble} => \"\n",
    "          f\"平均成本: {avg_cost:.2f}, 平均收益: {avg_revenue:.2f}, 平均利润: {net_profit:.2f}\")"
   ],
   "id": "d8d99a27a2917fb7",
   "outputs": [
    {
     "name": "stdout",
     "output_type": "stream",
     "text": [
      "策略组合: 检测零配件1=True, 检测零配件2=True, 检测成品=True, 拆解=True => 平均成本: 36.00, 平均收益: 56.00, 平均利润: 20.00\n",
      "策略组合: 检测零配件1=True, 检测零配件2=True, 检测成品=True, 拆解=False => 平均成本: 36.00, 平均收益: 56.00, 平均利润: 20.00\n",
      "策略组合: 检测零配件1=True, 检测零配件2=True, 检测成品=False, 拆解=True => 平均成本: 33.00, 平均收益: 56.00, 平均利润: 23.00\n",
      "策略组合: 检测零配件1=True, 检测零配件2=True, 检测成品=False, 拆解=False => 平均成本: 33.00, 平均收益: 56.00, 平均利润: 23.00\n",
      "策略组合: 检测零配件1=True, 检测零配件2=False, 检测成品=True, 拆解=True => 平均成本: 33.00, 平均收益: 56.00, 平均利润: 23.00\n",
      "策略组合: 检测零配件1=True, 检测零配件2=False, 检测成品=True, 拆解=False => 平均成本: 33.00, 平均收益: 56.00, 平均利润: 23.00\n",
      "策略组合: 检测零配件1=True, 检测零配件2=False, 检测成品=False, 拆解=True => 平均成本: 30.00, 平均收益: 56.00, 平均利润: 26.00\n",
      "策略组合: 检测零配件1=True, 检测零配件2=False, 检测成品=False, 拆解=False => 平均成本: 30.00, 平均收益: 56.00, 平均利润: 26.00\n",
      "策略组合: 检测零配件1=False, 检测零配件2=True, 检测成品=True, 拆解=True => 平均成本: 34.00, 平均收益: 56.00, 平均利润: 22.00\n",
      "策略组合: 检测零配件1=False, 检测零配件2=True, 检测成品=True, 拆解=False => 平均成本: 34.00, 平均收益: 56.00, 平均利润: 22.00\n",
      "策略组合: 检测零配件1=False, 检测零配件2=True, 检测成品=False, 拆解=True => 平均成本: 31.00, 平均收益: 56.00, 平均利润: 25.00\n",
      "策略组合: 检测零配件1=False, 检测零配件2=True, 检测成品=False, 拆解=False => 平均成本: 31.00, 平均收益: 56.00, 平均利润: 25.00\n",
      "策略组合: 检测零配件1=False, 检测零配件2=False, 检测成品=True, 拆解=True => 平均成本: 31.00, 平均收益: 56.00, 平均利润: 25.00\n",
      "策略组合: 检测零配件1=False, 检测零配件2=False, 检测成品=True, 拆解=False => 平均成本: 31.00, 平均收益: 56.00, 平均利润: 25.00\n",
      "策略组合: 检测零配件1=False, 检测零配件2=False, 检测成品=False, 拆解=True => 平均成本: 28.00, 平均收益: 56.00, 平均利润: 28.00\n",
      "策略组合: 检测零配件1=False, 检测零配件2=False, 检测成品=False, 拆解=False => 平均成本: 28.00, 平均收益: 56.00, 平均利润: 28.00\n"
     ]
    }
   ],
   "execution_count": 2
  },
  {
   "metadata": {},
   "cell_type": "markdown",
   "source": [
    "### 1. **定义模拟参数**\n",
    "\n",
    "首先定义了一些与生产相关的参数，包括次品率、成本、售价等：\n",
    "\n",
    "- `num_simulations`: 这是蒙特卡洛模拟的迭代次数，代表模拟执行的次数。在这段代码中，设定了 10000 次模拟，以确保结果的稳定性。\n",
    "- `defective_rate_part1`, `defective_rate_part2`, `defective_rate_final_product`: 分别表示零配件1、零配件2和最终产品的次品率，假设每种的次品率均为 10%。\n",
    "- `cost_part1_purchase`, `cost_part2_purchase`: 分别表示购买零配件1和零配件2的成本。\n",
    "- `cost_part1_inspection`, `cost_part2_inspection`: 分别表示检测零配件1和零配件2的成本。\n",
    "- `cost_assembly`: 装配一个成品的成本。\n",
    "- `cost_final_inspection`: 最终成品检测的成本。\n",
    "- `final_product_price`: 最终产品的市场售价。\n",
    "- `replacement_loss`: 如果成品不合格，需要进行调换时的损失。\n",
    "- `disassembly_cost`: 如果成品不合格，还需拆解的成本。"
   ],
   "id": "b0bae77681e87df0"
  },
  {
   "metadata": {
    "ExecuteTime": {
     "end_time": "2024-09-07T10:11:24.070409Z",
     "start_time": "2024-09-07T10:11:24.057948Z"
    }
   },
   "cell_type": "code",
   "source": [
    "\n",
    "# 模拟过程\n",
    "def simulate_production():\n",
    "    # 随机确定零配件1是否不合格\n",
    "    part1_defective = np.random.rand() < defective_rate_part1\n",
    "    part2_defective = np.random.rand() < defective_rate_part2\n",
    "\n",
    "    # 如果零配件1或零配件2不合格，直接废弃，并产生购买及检测成本\n",
    "    if part1_defective:\n",
    "        total_cost = cost_part1_purchase + cost_part1_inspection\n",
    "        return total_cost, 0\n",
    "    if part2_defective:\n",
    "        total_cost = cost_part2_purchase + cost_part2_inspection\n",
    "        return total_cost, 0\n",
    "\n",
    "    # 如果零配件合格，继续装配，产生装配和成品检测成本\n",
    "    total_cost = (cost_part1_purchase + cost_part1_inspection + \n",
    "                  cost_part2_purchase + cost_part2_inspection + \n",
    "                  cost_assembly + cost_final_inspection)\n",
    "\n",
    "    # 随机确定成品是否不合格\n",
    "    final_product_defective = np.random.rand() < defective_rate_final_product\n",
    "\n",
    "    if final_product_defective:\n",
    "        # 如果成品不合格，产生调换损失\n",
    "        total_cost += replacement_loss + disassembly_cost\n",
    "        return total_cost, 0\n",
    "    else:\n",
    "        # 如果成品合格，进入市场，产生收益\n",
    "        return total_cost, final_product_price\n"
   ],
   "id": "initial_id",
   "outputs": [],
   "execution_count": 3
  },
  {
   "metadata": {},
   "cell_type": "markdown",
   "source": [
    "### 2. **模拟过程的逻辑**\n",
    "\n",
    "**主要函数：`simulate_production()`**\n",
    "\n",
    "这个函数模拟了一次生产过程的成本和收益。主要逻辑如下：\n",
    "\n",
    "1. **零配件检测：**\n",
    "   - 首先通过随机数生成，决定零配件1和零配件2是否为次品。如果生成的随机数小于次品率，则视为次品。例如，`part1_defective = np.random.rand() < defective_rate_part1` 表示随机生成一个0到1之间的数，如果该数小于0.1（次品率为10%），则零配件1视为次品。\n",
    "   - 如果零配件1或零配件2有任何一个是次品，该零配件直接废弃，并产生相应的采购和检测成本。此时函数直接返回该次模拟的成本，并且收益为0，因为不合格品不能进入市场。\n",
    "   \n",
    "2. **成品检测：**\n",
    "   - 如果零配件1和2都合格，系统将计算购买和检测的总成本，加上装配和最终检测的成本。\n",
    "   - 然后再次通过随机数生成决定最终产品是否为次品。如果成品是次品，企业将产生调换损失和拆解费用，收益依然为0。\n",
    "   - 如果成品合格，成品将进入市场，产生收益（即`final_product_price`）。\n",
    "**返回值：**\n",
    "- `total_cost`: 计算本次模拟中所花费的总成本。\n",
    "- `final_product_price`（如果合格）或者 0（如果不合格）：表示收益。"
   ],
   "id": "ef8257937bce0cc3"
  },
  {
   "metadata": {
    "ExecuteTime": {
     "end_time": "2024-09-07T10:11:25.102074Z",
     "start_time": "2024-09-07T10:11:24.072862Z"
    }
   },
   "cell_type": "code",
   "source": [
    "import matplotlib.pyplot as plt\n",
    "\n",
    "total_costs = []\n",
    "total_revenues = []\n",
    "total_profit = []\n",
    "\n",
    "# 蒙特卡洛模拟\n",
    "for _ in range(num_simulations):\n",
    "    cost, revenue = simulate_production()\n",
    "    total_costs.append(cost)\n",
    "    total_revenues.append(revenue)\n",
    "    total_profit.append(revenue - cost)  # 计算利润\n",
    "\n",
    "# 计算平均成本、收益和净利润\n",
    "avg_cost_1 = np.mean(total_costs)\n",
    "avg_revenue_1 = np.mean(total_revenues)\n",
    "avg_profit_1 = np.mean(total_profit)\n",
    "\n",
    "print(f\"平均成本: {avg_cost_1}, 平均收益: {avg_revenue_1}, 平均利润: {avg_profit_1}\")\n",
    "\n",
    "# 画出利润的图像\n",
    "plt.figure(figsize=(10, 6))\n",
    "plt.plot(total_profit, label='Total Profit per Simulation')\n",
    "plt.axhline(avg_profit_1, color='red', linestyle='--', label=f'Average Profit: {avg_profit_1:.2f}')\n",
    "plt.title('Monte Carlo Simulation: Profit')\n",
    "plt.xlabel('Simulation Number')\n",
    "plt.ylabel('Profit')\n",
    "plt.legend()\n",
    "plt.grid(True)\n",
    "plt.show()\n"
   ],
   "id": "ddfe64f4724f9b6e",
   "outputs": [
    {
     "name": "stdout",
     "output_type": "stream",
     "text": [
      "平均成本: 32.6957, 平均收益: 41.2888, 平均利润: 8.5931\n"
     ]
    },
    {
     "data": {
      "text/plain": [
       "<Figure size 1000x600 with 1 Axes>"
      ],
      "image/png": "[encoded data removed]"
     },
     "metadata": {},
     "output_type": "display_data"
    }
   ],
   "execution_count": 4
  },
  {
   "metadata": {},
   "cell_type": "markdown",
   "source": [
    "### 3. **蒙特卡洛模拟的执行**\n",
    "\n",
    "- **循环模拟过程**：通过 `for _ in range(num_simulations)`，执行 10000 次 `simulate_production()` 模拟，每次都记录相应的成本和收益。\n",
    "  \n",
    "- **结果汇总**：使用 `np.mean()` 分别计算所有模拟中的平均成本和平均收益。\n",
    "\n",
    "### 4. **计算与输出**\n",
    "\n",
    "- `avg_cost`: 代表10000次模拟的平均生产成本。\n",
    "- `avg_revenue`: 代表10000次模拟的平均收益。\n",
    "- `net_profit`: 代表最终的平均净利润，计算公式为：`net_profit = avg_revenue - avg_cost`。\n",
    "\n",
    "### 代码整体逻辑总结：\n",
    "1. 每次模拟会随机生成零配件和成品是否为次品。\n",
    "2. 根据是否为次品决定是否产生废弃、装配、检测或调换的成本。\n",
    "3. 成品合格则产生收益，不合格则产生额外的调换和拆解成本。\n",
    "4. 通过多次模拟，计算出平均生产成本、平均收益和净利润。\n"
   ],
   "id": "360b9450a5ed66bd"
  }
 ],
 "metadata": {
  "kernelspec": {
   "display_name": "Python 3",
   "language": "python",
   "name": "python3"
  },
  "language_info": {
   "codemirror_mode": {
    "name": "ipython",
    "version": 2
   },
   "file_extension": ".py",
   "mimetype": "text/x-python",
   "name": "python",
   "nbconvert_exporter": "python",
   "pygments_lexer": "ipython2",
   "version": "2.7.6"
  }
 },
 "nbformat": 4,
 "nbformat_minor": 5
}
