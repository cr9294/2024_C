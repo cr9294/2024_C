{
 "cells": [
  {
   "metadata": {
    "ExecuteTime": {
     "end_time": "2024-09-06T01:54:37.080505Z",
     "start_time": "2024-09-06T01:54:37.071484Z"
    }
   },
   "cell_type": "code",
   "source": [
    "# 动态规划解决方案\n",
    "\n",
    "# 定义生产各阶段的成本\n",
    "detection_cost_part1 = 2  # 零配件1检测成本\n",
    "detection_cost_part2 = 3  # 零配件2检测成本\n",
    "detection_cost_product = 3  # 成品检测成本\n",
    "assembly_cost = 6  # 装配成本\n",
    "revenue_per_product = 56  # 合格产品收益\n",
    "replacement_loss = 6  # 退货损失\n",
    "reputation_loss = 5  # 企业信誉损失\n",
    "scrap_cost = 5  # 拆解成本\n",
    "\n",
    "# 假设次品率和检测概率\n",
    "part1_defect_rate = 0.1  # 零配件1次品率\n",
    "part2_defect_rate = 0.1  # 零配件2次品率\n",
    "product_defect_rate = 0.1  # 成品次品率"
   ],
   "id": "6d9f7badf98f0df6",
   "outputs": [],
   "execution_count": 3
  },
  {
   "metadata": {
    "ExecuteTime": {
     "end_time": "2024-09-06T01:54:37.128021Z",
     "start_time": "2024-09-06T01:54:37.113917Z"
    }
   },
   "cell_type": "code",
   "source": [
    "\n",
    "# 动态规划递推公式，考虑检测与不检测的两种情况\n",
    "def dp_solve():\n",
    "    # 状态空间：D1, D2, D3, D4 (是否检测零配件1, 零配件2, 成品，是否拆解)\n",
    "    dp = {}\n",
    "\n",
    "    # 定义递归的动态规划函数\n",
    "    def dp_decision(D1, D2, D3, D4):\n",
    "        if (D1, D2, D3, D4) in dp:\n",
    "            return dp[(D1, D2, D3, D4)]\n",
    "\n",
    "        # 检测零配件的成本\n",
    "        part1_defects = part1_defect_rate if D1 == 1 else 0  # 零配件1次品率\n",
    "        part2_defects = part2_defect_rate if D2 == 1 else 0  # 零配件2次品率\n",
    "\n",
    "        # 检测成品的成本\n",
    "        product_defects = product_defect_rate if D3 == 1 else 0\n",
    "\n",
    "        # 合格产品收益与不合格产品的处理\n",
    "        revenue = (1 - product_defects) * revenue_per_product\n",
    "        loss = product_defects * (replacement_loss + reputation_loss)\n",
    "\n",
    "        # 装配后的成品检测成本\n",
    "        cost = (D1 * detection_cost_part1 + D2 * detection_cost_part2 + \n",
    "                D3 * detection_cost_product + assembly_cost - revenue + loss)\n",
    "\n",
    "        # 拆解决定\n",
    "        if D4 == 1:\n",
    "            # 如果选择拆解，增加拆解成本\n",
    "            cost += scrap_cost\n",
    "        \n",
    "        dp[(D1, D2, D3, D4)] = cost\n",
    "        return cost\n",
    "\n",
    "    # 遍历所有可能的决策组合，找到成本最小的策略\n",
    "    min_cost = float('inf')\n",
    "    best_decision = None\n",
    "    for D1 in [0, 1]:\n",
    "        for D2 in [0, 1]:\n",
    "            for D3 in [0, 1]:\n",
    "                for D4 in [0, 1]:\n",
    "                    cost = dp_decision(D1, D2, D3, D4)\n",
    "                    if cost < min_cost:\n",
    "                        min_cost = cost\n",
    "                        best_decision = (D1, D2, D3, D4)\n",
    "    \n",
    "    return best_decision, min_cost\n",
    "\n",
    "# 调用动态规划函数求解最优决策\n",
    "best_decision, min_cost = dp_solve()\n",
    "print(f\"最优决策组合: {best_decision}, 最小成本: {min_cost}\")\n"
   ],
   "id": "initial_id",
   "outputs": [
    {
     "name": "stdout",
     "output_type": "stream",
     "text": [
      "最优决策组合: (0, 0, 0, 0), 最小成本: -50\n"
     ]
    }
   ],
   "execution_count": 4
  },
  {
   "metadata": {
    "ExecuteTime": {
     "end_time": "2024-09-06T01:54:37.646848Z",
     "start_time": "2024-09-06T01:54:37.139917Z"
    }
   },
   "cell_type": "code",
   "source": [
    "import numpy as np\n",
    "\n",
    "# 蒙特卡洛模拟参数\n",
    "num_simulations = 10000\n",
    "\n",
    "# 定义次品率的概率分布\n",
    "part1_defect_rate_dist = np.random.uniform(0.05, 0.2, num_simulations)  # 零配件1次品率分布\n",
    "part2_defect_rate_dist = np.random.uniform(0.05, 0.2, num_simulations)  # 零配件2次品率分布\n",
    "product_defect_rate_dist = np.random.uniform(0.05, 0.2, num_simulations)  # 成品次品率分布\n",
    "\n",
    "def monte_carlo_simulation():\n",
    "    total_costs = []\n",
    "    \n",
    "    # 模拟不同策略下的期望总成本\n",
    "    for i in range(num_simulations):\n",
    "        # 随机次品率\n",
    "        part1_defects = part1_defect_rate_dist[i]\n",
    "        part2_defects = part2_defect_rate_dist[i]\n",
    "        product_defects = product_defect_rate_dist[i]\n",
    "        \n",
    "        # 计算不同策略下的成本\n",
    "        detection_part1 = detection_cost_part1 if np.random.rand() > part1_defects else 0\n",
    "        detection_part2 = detection_cost_part2 if np.random.rand() > part2_defects else 0\n",
    "        detection_product = detection_cost_product if np.random.rand() > product_defects else 0\n",
    "        \n",
    "        # 合格品的收益和次品的损失\n",
    "        revenue = (1 - product_defects) * revenue_per_product\n",
    "        loss = product_defects * (replacement_loss + reputation_loss)\n",
    "        \n",
    "        # 总成本计算\n",
    "        total_cost = detection_part1 + detection_part2 + detection_product + assembly_cost - revenue + loss\n",
    "        total_costs.append(total_cost)\n",
    "    \n",
    "    # 返回平均成本\n",
    "    return np.mean(total_costs)\n",
    "\n",
    "# 调用蒙特卡洛模拟求解\n",
    "expected_cost = monte_carlo_simulation()\n",
    "print(f\"蒙特卡洛模拟下的期望成本: {expected_cost}\")\n"
   ],
   "id": "93391db1e896402a",
   "outputs": [
    {
     "name": "stdout",
     "output_type": "stream",
     "text": [
      "蒙特卡洛模拟下的期望成本: -34.63401378355377\n"
     ]
    }
   ],
   "execution_count": 5
  }
 ],
 "metadata": {
  "kernelspec": {
   "display_name": "Python 3",
   "language": "python",
   "name": "python3"
  },
  "language_info": {
   "codemirror_mode": {
    "name": "ipython",
    "version": 2
   },
   "file_extension": ".py",
   "mimetype": "text/x-python",
   "name": "python",
   "nbconvert_exporter": "python",
   "pygments_lexer": "ipython2",
   "version": "2.7.6"
  }
 },
 "nbformat": 4,
 "nbformat_minor": 5
}
