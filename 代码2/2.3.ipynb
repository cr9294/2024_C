{
 "cells": [
  {
   "cell_type": "code",
   "id": "initial_id",
   "metadata": {
    "collapsed": true,
    "ExecuteTime": {
     "end_time": "2024-09-08T01:38:37.699277Z",
     "start_time": "2024-09-08T01:38:37.256117Z"
    }
   },
   "source": [
    "import numpy as np\n",
    "import pandas as pd\n",
    "\n",
    "# 参数设定\n",
    "\"\"\"\n",
    "P1,P2:零配件1和2的次品率\n",
    "C1,C2: 零配件1和2的购买单价。\n",
    "d1,d2: 零配件1和2的检测成本。·pf:成品的次品率\n",
    "a:装配成本。\n",
    "df:成品的检测成本。\n",
    "\"\"\"\n",
    "params = {\n",
    "    'p1': 0.10, 'p2': 0.10, 'c1': 4, 'c2': 18, 'd1': 2, 'd2': 3,\n",
    "    'pf': 0.10, 'a': 6, 'df': 3, 's': 56, 'l': 30, 'r': 5\n",
    "}\n",
    "\n",
    "# 决策变量\n",
    "decisions = [0, 1]\n",
    "\n",
    "# 总成本计算函数\n",
    "def calculate_total_cost(D1, D2, C, R, params):\n",
    "    cost_parts = (params['c1'] + params['d1'] * D1) + (params['c2'] + params['d2'] * D2)\n",
    "    cost_assembly = params['a'] + params['df'] * C\n",
    "    cost_rework = params['r'] * R * params['pf'] * C\n",
    "    loss_replacement = params['l'] * params['pf']\n",
    "    total_cost = cost_parts + cost_assembly + cost_rework + loss_replacement\n",
    "    return total_cost\n",
    "\n",
    "# 遍历所有可能的决策组合并打印\n",
    "min_cost = np.inf\n",
    "best_decision = None\n",
    "\n",
    "print(\"Decision Combinations and Corresponding Total Costs:\")\n",
    "\n",
    "for D1 in decisions:\n",
    "    for D2 in decisions:\n",
    "        for C in decisions:\n",
    "            for R in decisions:\n",
    "                total_cost = calculate_total_cost(D1, D2, C, R, params)\n",
    "                print(f\"D1: {D1}, D2: {D2}, D3: {C}, D4: {R}, Total Cost: {total_cost}\")\n",
    "                if total_cost < min_cost:\n",
    "                    min_cost = total_cost\n",
    "                    best_decision = (D1, D2, C, R)\n",
    "\n",
    "print(f\"\\nBest Decision: {best_decision}, Minimum Total Cost: {min_cost}\")"
   ],
   "outputs": [
    {
     "name": "stdout",
     "output_type": "stream",
     "text": [
      "Decision Combinations and Corresponding Total Costs:\n",
      "D1: 0, D2: 0, D3: 0, D4: 0, Total Cost: 31.0\n",
      "D1: 0, D2: 0, D3: 0, D4: 1, Total Cost: 31.0\n",
      "D1: 0, D2: 0, D3: 1, D4: 0, Total Cost: 34.0\n",
      "D1: 0, D2: 0, D3: 1, D4: 1, Total Cost: 34.5\n",
      "D1: 0, D2: 1, D3: 0, D4: 0, Total Cost: 34.0\n",
      "D1: 0, D2: 1, D3: 0, D4: 1, Total Cost: 34.0\n",
      "D1: 0, D2: 1, D3: 1, D4: 0, Total Cost: 37.0\n",
      "D1: 0, D2: 1, D3: 1, D4: 1, Total Cost: 37.5\n",
      "D1: 1, D2: 0, D3: 0, D4: 0, Total Cost: 33.0\n",
      "D1: 1, D2: 0, D3: 0, D4: 1, Total Cost: 33.0\n",
      "D1: 1, D2: 0, D3: 1, D4: 0, Total Cost: 36.0\n",
      "D1: 1, D2: 0, D3: 1, D4: 1, Total Cost: 36.5\n",
      "D1: 1, D2: 1, D3: 0, D4: 0, Total Cost: 36.0\n",
      "D1: 1, D2: 1, D3: 0, D4: 1, Total Cost: 36.0\n",
      "D1: 1, D2: 1, D3: 1, D4: 0, Total Cost: 39.0\n",
      "D1: 1, D2: 1, D3: 1, D4: 1, Total Cost: 39.5\n",
      "\n",
      "Best Decision: (0, 0, 0, 0), Minimum Total Cost: 31.0\n"
     ]
    }
   ],
   "execution_count": 1
  }
 ],
 "metadata": {
  "kernelspec": {
   "display_name": "Python 3",
   "language": "python",
   "name": "python3"
  },
  "language_info": {
   "codemirror_mode": {
    "name": "ipython",
    "version": 2
   },
   "file_extension": ".py",
   "mimetype": "text/x-python",
   "name": "python",
   "nbconvert_exporter": "python",
   "pygments_lexer": "ipython2",
   "version": "2.7.6"
  }
 },
 "nbformat": 4,
 "nbformat_minor": 5
}
