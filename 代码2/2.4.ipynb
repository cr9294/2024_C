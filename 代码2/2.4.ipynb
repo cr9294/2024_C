{
 "cells": [
  {
   "cell_type": "code",
   "id": "initial_id",
   "metadata": {
    "collapsed": true,
    "ExecuteTime": {
     "end_time": "2024-09-07T17:07:46.893881Z",
     "start_time": "2024-09-07T17:07:46.437617Z"
    }
   },
   "source": [
    "import numpy as np\n",
    "import pandas as pd\n",
    "\n",
    "# 参数设定\n",
    "\"\"\"\n",
    "P1,P2:零配件1和2的次品率\n",
    "C1,C2: 零配件1和2的购买单价。\n",
    "d1,d2: 零配件1和2的检测成本。·pf:成品的次品率\n",
    "a:装配成本。\n",
    "df:成品的检测成本。\n",
    "\"\"\"\n",
    "params = {\n",
    "    'p1': 0.20, 'p2': 0.20, 'c1': 4, 'c2': 18, 'd1': 1, 'd2': 1,\n",
    "    'pf': 0.20, 'a': 6, 'df': 2, 's': 56, 'l': 30, 'r': 5\n",
    "}\n",
    "\n",
    "# 决策变量\n",
    "decisions = [0, 1]\n",
    "\n",
    "# 利润计算函数\n",
    "def calculate_profit(D1, D2, C, R, params):\n",
    "    cost_parts = (params['c1'] + params['d1'] * D1) + (params['c2'] + params['d2'] * D2)\n",
    "    cost_assembly = params['a'] + params['df'] * C\n",
    "    revenue = params['s'] * (1 - params['pf']) * (1 - C * params['df'])\n",
    "    cost_rework = params['r'] * R * params['pf'] * C\n",
    "    loss_replacement = params['l'] * params['pf']\n",
    "    profit = revenue - cost_parts - cost_assembly - cost_rework - loss_replacement\n",
    "    return profit\n",
    "\n",
    "# 遍历所有可能的决策组合并打印\n",
    "best_profit = -np.inf\n",
    "best_decision = None\n",
    "\n",
    "print(\"Decision Combinations and Corresponding Profits:\")\n",
    "\n",
    "for D1 in decisions:\n",
    "    for D2 in decisions:\n",
    "        for C in decisions:\n",
    "            for R in decisions:\n",
    "                profit = calculate_profit(D1, D2, C, R, params)\n",
    "                print(f\"D1: {D1}, D2: {D2}, C: {C}, R: {R}, Profit: {profit}\")\n",
    "                if profit > best_profit:\n",
    "                    best_profit = profit\n",
    "                    best_decision = (D1, D2, C, R)\n",
    "\n",
    "print(f\"\\nBest Decision: {best_decision}, Maximum Profit: {best_profit}\")\n"
   ],
   "outputs": [
    {
     "name": "stdout",
     "output_type": "stream",
     "text": [
      "Decision Combinations and Corresponding Profits:\n",
      "D1: 0, D2: 0, C: 0, R: 0, Profit: 10.800000000000004\n",
      "D1: 0, D2: 0, C: 0, R: 1, Profit: 10.800000000000004\n",
      "D1: 0, D2: 0, C: 1, R: 0, Profit: -80.80000000000001\n",
      "D1: 0, D2: 0, C: 1, R: 1, Profit: -81.80000000000001\n",
      "D1: 0, D2: 1, C: 0, R: 0, Profit: 9.800000000000004\n",
      "D1: 0, D2: 1, C: 0, R: 1, Profit: 9.800000000000004\n",
      "D1: 0, D2: 1, C: 1, R: 0, Profit: -81.80000000000001\n",
      "D1: 0, D2: 1, C: 1, R: 1, Profit: -82.80000000000001\n",
      "D1: 1, D2: 0, C: 0, R: 0, Profit: 9.800000000000004\n",
      "D1: 1, D2: 0, C: 0, R: 1, Profit: 9.800000000000004\n",
      "D1: 1, D2: 0, C: 1, R: 0, Profit: -81.80000000000001\n",
      "D1: 1, D2: 0, C: 1, R: 1, Profit: -82.80000000000001\n",
      "D1: 1, D2: 1, C: 0, R: 0, Profit: 8.800000000000004\n",
      "D1: 1, D2: 1, C: 0, R: 1, Profit: 8.800000000000004\n",
      "D1: 1, D2: 1, C: 1, R: 0, Profit: -82.80000000000001\n",
      "D1: 1, D2: 1, C: 1, R: 1, Profit: -83.80000000000001\n",
      "\n",
      "Best Decision: (0, 0, 0, 0), Maximum Profit: 10.800000000000004\n"
     ]
    }
   ],
   "execution_count": 1
  }
 ],
 "metadata": {
  "kernelspec": {
   "display_name": "Python 3",
   "language": "python",
   "name": "python3"
  },
  "language_info": {
   "codemirror_mode": {
    "name": "ipython",
    "version": 2
   },
   "file_extension": ".py",
   "mimetype": "text/x-python",
   "name": "python",
   "nbconvert_exporter": "python",
   "pygments_lexer": "ipython2",
   "version": "2.7.6"
  }
 },
 "nbformat": 4,
 "nbformat_minor": 5
}
