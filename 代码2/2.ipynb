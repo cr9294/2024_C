{
 "cells": [
  {
   "metadata": {
    "ExecuteTime": {
     "end_time": "2024-09-07T16:53:20.358660Z",
     "start_time": "2024-09-07T16:53:20.335677Z"
    }
   },
   "cell_type": "code",
   "source": [
    "import pandas as pd\n",
    "import numpy as np\n",
    "import matplotlib.pyplot as plt\n",
    "import itertools\n",
    "\n",
    "# 参数设定\n",
    "params = {\n",
    "    'p1': 0.10, 'p2': 0.10, 'c1': 4, 'c2': 2, 'd1': 2, 'd2': 3,\n",
    "    'pf': 0.10, 'a': 6, 'df': 3, 's': 56, 'l': 6, 'r': 5\n",
    "}\n",
    "\n",
    "# 决策变量\n",
    "decisions = [0, 1]\n",
    "\n",
    "# 利润计算函数\n",
    "def calculate_profit(D1, D2, C, R, params):\n",
    "    cost_parts = (params['c1'] + params['d1'] * D1) + (params['c2'] + params['d2'] * D2)\n",
    "    cost_assembly = params['a'] + params['df'] * C\n",
    "    revenue = params['s'] * (1 - params['pf']) * (1 - C * params['df'])\n",
    "    cost_rework = params['r'] * R * params['pf'] * C\n",
    "    loss_replacement = params['l'] * params['pf']\n",
    "    profit = revenue - cost_parts - cost_assembly - cost_rework - loss_replacement\n",
    "    return profit\n",
    "\n",
    "# 遍历所有可能的决策组合\n",
    "profits = []\n",
    "decision_combinations = list(itertools.product(decisions, repeat=4))\n",
    "for combo in decision_combinations:\n",
    "    profit = calculate_profit(*combo, params)\n",
    "    profits.append(profit)\n",
    "\n",
    "# 转换为DataFrame以便可视化\n",
    "df = pd.DataFrame(decision_combinations, columns=['D1', 'D2', 'C', 'R'])\n",
    "df['Profit'] = profits\n",
    "\n",
    "\"\"\"\n",
    "# 绘制成本与收益分析图\n",
    "plt.figure(figsize=(10, 6))\n",
    "plt.bar(df.index, df['Profit'], color='skyblue')\n",
    "plt.xlabel('Decision Combination Index')\n",
    "plt.ylabel('Profit')\n",
    "plt.title('Profit for Different Decision Combinations')\n",
    "plt.xticks(rotation=90)\n",
    "plt.show()\n",
    "\n",
    "# 决策影响图\n",
    "for i, decision in enumerate(['D1', 'D2', 'C', 'R']):\n",
    "    plt.figure(figsize=(10, 6))\n",
    "    plt.bar(df.index, df['Profit'] * (df[decision] == 1).astype(int), label=f'{decision} = 1')\n",
    "    plt.bar(df.index, df['Profit'] * (df[decision] == 0).astype(int), bottom=df['Profit'] * (df[decision] == 1).astype(int), label=f'{decision} = 0')\n",
    "    plt.xlabel('Decision Combination Index')\n",
    "    plt.ylabel('Profit')\n",
    "    plt.title(f'Impact of {decision} on Profit')\n",
    "    plt.legend()\n",
    "    plt.xticks(rotation=90)\n",
    "    plt.show()\n",
    "\n",
    "# 敏感性分析图\n",
    "sensitivity_params = ['c1', 'c2', 's', 'l', 'r']\n",
    "for param in sensitivity_params:\n",
    "    values = np.linspace(0.5, 1.5, 10) * params[param]\n",
    "    profits_sensitivity = [calculate_profit(1, 1, 1, 1, {**params, param: value}) for value in values]\n",
    "    plt.figure(figsize=(10, 6))\n",
    "    plt.plot(values, profits_sensitivity, marker='o', label=f'Sensitivity to {param}')\n",
    "    plt.xlabel(f'{param} Value')\n",
    "    plt.ylabel('Profit')\n",
    "    plt.title(f'Sensitivity Analysis for {param}')\n",
    "    plt.legend()\n",
    "    plt.grid(True)\n",
    "    plt.show()\n",
    "    \"\"\""
   ],
   "id": "ee3fdf78844d44f5",
   "outputs": [
    {
     "data": {
      "text/plain": [
       "\"\\n# 绘制成本与收益分析图\\nplt.figure(figsize=(10, 6))\\nplt.bar(df.index, df['Profit'], color='skyblue')\\nplt.xlabel('Decision Combination Index')\\nplt.ylabel('Profit')\\nplt.title('Profit for Different Decision Combinations')\\nplt.xticks(rotation=90)\\nplt.show()\\n\\n# 决策影响图\\nfor i, decision in enumerate(['D1', 'D2', 'C', 'R']):\\n    plt.figure(figsize=(10, 6))\\n    plt.bar(df.index, df['Profit'] * (df[decision] == 1).astype(int), label=f'{decision} = 1')\\n    plt.bar(df.index, df['Profit'] * (df[decision] == 0).astype(int), bottom=df['Profit'] * (df[decision] == 1).astype(int), label=f'{decision} = 0')\\n    plt.xlabel('Decision Combination Index')\\n    plt.ylabel('Profit')\\n    plt.title(f'Impact of {decision} on Profit')\\n    plt.legend()\\n    plt.xticks(rotation=90)\\n    plt.show()\\n\\n# 敏感性分析图\\nsensitivity_params = ['c1', 'c2', 's', 'l', 'r']\\nfor param in sensitivity_params:\\n    values = np.linspace(0.5, 1.5, 10) * params[param]\\n    profits_sensitivity = [calculate_profit(1, 1, 1, 1, {**params, param: value}) for value in values]\\n    plt.figure(figsize=(10, 6))\\n    plt.plot(values, profits_sensitivity, marker='o', label=f'Sensitivity to {param}')\\n    plt.xlabel(f'{param} Value')\\n    plt.ylabel('Profit')\\n    plt.title(f'Sensitivity Analysis for {param}')\\n    plt.legend()\\n    plt.grid(True)\\n    plt.show()\\n    \""
      ]
     },
     "execution_count": 6,
     "metadata": {},
     "output_type": "execute_result"
    }
   ],
   "execution_count": 6
  },
  {
   "metadata": {
    "ExecuteTime": {
     "end_time": "2024-09-07T16:53:20.374311Z",
     "start_time": "2024-09-07T16:53:20.361251Z"
    }
   },
   "cell_type": "code",
   "source": [
    "import numpy as np\n",
    "import pandas as pd\n",
    "\n",
    "# 参数设定\n",
    "params = {\n",
    "    'p1': 0.10, 'p2': 0.10, 'c1': 4, 'c2': 2, 'd1': 2, 'd2': 3,\n",
    "    'pf': 0.10, 'a': 6, 'df': 3, 's': 56, 'l': 6, 'r': 5\n",
    "}\n",
    "\n",
    "# 决策变量\n",
    "decisions = [0, 1]\n",
    "\n",
    "# 利润计算函数\n",
    "def calculate_profit(D1, D2, C, R, params):\n",
    "    cost_parts = (params['c1'] + params['d1'] * D1) + (params['c2'] + params['d2'] * D2)\n",
    "    cost_assembly = params['a'] + params['df'] * C\n",
    "    revenue = params['s'] * (1 - params['pf']) * (1 - C * params['df'])\n",
    "    cost_rework = params['r'] * R * params['pf'] * C\n",
    "    loss_replacement = params['l'] * params['pf']\n",
    "    profit = revenue - cost_parts - cost_assembly - cost_rework - loss_replacement\n",
    "    return profit\n",
    "\n",
    "# 遍历所有可能的决策组合并打印\n",
    "best_profit = -np.inf\n",
    "best_decision = None\n",
    "\n",
    "print(\"Decision Combinations and Corresponding Profits:\")\n",
    "\n",
    "for D1 in decisions:\n",
    "    for D2 in decisions:\n",
    "        for C in decisions:\n",
    "            for R in decisions:\n",
    "                profit = calculate_profit(D1, D2, C, R, params)\n",
    "                print(f\"D1: {D1}, D2: {D2}, C: {C}, R: {R}, Profit: {profit}\")\n",
    "                if profit > best_profit:\n",
    "                    best_profit = profit\n",
    "                    best_decision = (D1, D2, C, R)\n",
    "\n",
    "print(f\"\\nBest Decision: {best_decision}, Maximum Profit: {best_profit}\")\n"
   ],
   "id": "43e47dad15237085",
   "outputs": [
    {
     "name": "stdout",
     "output_type": "stream",
     "text": [
      "Decision Combinations and Corresponding Profits:\n",
      "D1: 0, D2: 0, C: 0, R: 0, Profit: 37.8\n",
      "D1: 0, D2: 0, C: 0, R: 1, Profit: 37.8\n",
      "D1: 0, D2: 0, C: 1, R: 0, Profit: -116.39999999999999\n",
      "D1: 0, D2: 0, C: 1, R: 1, Profit: -116.89999999999999\n",
      "D1: 0, D2: 1, C: 0, R: 0, Profit: 34.8\n",
      "D1: 0, D2: 1, C: 0, R: 1, Profit: 34.8\n",
      "D1: 0, D2: 1, C: 1, R: 0, Profit: -119.39999999999999\n",
      "D1: 0, D2: 1, C: 1, R: 1, Profit: -119.89999999999999\n",
      "D1: 1, D2: 0, C: 0, R: 0, Profit: 35.8\n",
      "D1: 1, D2: 0, C: 0, R: 1, Profit: 35.8\n",
      "D1: 1, D2: 0, C: 1, R: 0, Profit: -118.39999999999999\n",
      "D1: 1, D2: 0, C: 1, R: 1, Profit: -118.89999999999999\n",
      "D1: 1, D2: 1, C: 0, R: 0, Profit: 32.8\n",
      "D1: 1, D2: 1, C: 0, R: 1, Profit: 32.8\n",
      "D1: 1, D2: 1, C: 1, R: 0, Profit: -121.39999999999999\n",
      "D1: 1, D2: 1, C: 1, R: 1, Profit: -121.89999999999999\n",
      "\n",
      "Best Decision: (0, 0, 0, 0), Maximum Profit: 37.8\n"
     ]
    }
   ],
   "execution_count": 7
  }
 ],
 "metadata": {
  "kernelspec": {
   "display_name": "Python 3",
   "language": "python",
   "name": "python3"
  },
  "language_info": {
   "codemirror_mode": {
    "name": "ipython",
    "version": 2
   },
   "file_extension": ".py",
   "mimetype": "text/x-python",
   "name": "python",
   "nbconvert_exporter": "python",
   "pygments_lexer": "ipython2",
   "version": "2.7.6"
  }
 },
 "nbformat": 4,
 "nbformat_minor": 5
}
